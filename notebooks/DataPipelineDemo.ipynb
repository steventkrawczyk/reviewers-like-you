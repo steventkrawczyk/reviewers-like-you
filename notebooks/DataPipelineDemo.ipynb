{
 "cells": [
  {
   "cell_type": "markdown",
   "id": "f534ceed",
   "metadata": {},
   "source": [
    "# Data Pipeline Demo"
   ]
  },
  {
   "cell_type": "markdown",
   "id": "4809dff7",
   "metadata": {},
   "source": [
    "<img src=\"../images/SystemDesign.png\"/>\n",
    "\n",
    "This notebook is a hands on demonstration of the data pipeline shown above. Follow along to understand how data goes from ingestion, through projection, to recommendation, and finally creates a match for the user. "
   ]
  },
  {
   "cell_type": "markdown",
   "id": "70686403",
   "metadata": {},
   "source": [
    "## Setup"
   ]
  },
  {
   "cell_type": "markdown",
   "id": "3b1cfab2",
   "metadata": {},
   "source": [
    "The first thing we'll do is install the required python packages. Even if we have the code working outside of jupyter, we should do this just to be safe, jupyter may not be using the same environment we normally use to run python code. The last bit of code restarts the kernel, which may be required for us to use the updated packaged. Just reload the page after the kernel dies, and skip running this cell next time."
   ]
  },
  {
   "cell_type": "code",
   "execution_count": 6,
   "id": "d284b367",
   "metadata": {},
   "outputs": [
    {
     "name": "stdout",
     "output_type": "stream",
     "text": [
      "Requirement already satisfied: pandas in /usr/local/Cellar/jupyterlab/3.4.3/libexec/lib/python3.10/site-packages (1.4.3)\n",
      "Requirement already satisfied: numpy>=1.21.0 in /usr/local/Cellar/jupyterlab/3.4.3/libexec/lib/python3.10/site-packages (from pandas) (1.23.1)\n",
      "Requirement already satisfied: pytz>=2020.1 in /usr/local/Cellar/jupyterlab/3.4.3/libexec/lib/python3.10/site-packages (from pandas) (2022.1)\n",
      "Requirement already satisfied: python-dateutil>=2.8.1 in /usr/local/Cellar/jupyterlab/3.4.3/libexec/lib/python3.10/site-packages (from pandas) (2.8.2)\n",
      "Requirement already satisfied: six>=1.5 in /usr/local/Cellar/six/1.16.0_2/lib/python3.10/site-packages (from python-dateutil>=2.8.1->pandas) (1.16.0)\n",
      "\u001b[33mWARNING: You are using pip version 22.0.4; however, version 22.2 is available.\n",
      "You should consider upgrading via the '/usr/local/Cellar/jupyterlab/3.4.3/libexec/bin/python3.10 -m pip install --upgrade pip' command.\u001b[0m\u001b[33m\n",
      "\u001b[0mNote: you may need to restart the kernel to use updated packages.\n",
      "Collecting boto3\n",
      "  Using cached boto3-1.24.36-py3-none-any.whl (132 kB)\n",
      "Collecting jmespath<2.0.0,>=0.7.1\n",
      "  Using cached jmespath-1.0.1-py3-none-any.whl (20 kB)\n",
      "Collecting botocore<1.28.0,>=1.27.36\n",
      "  Using cached botocore-1.27.36-py3-none-any.whl (9.0 MB)\n",
      "Collecting s3transfer<0.7.0,>=0.6.0\n",
      "  Using cached s3transfer-0.6.0-py3-none-any.whl (79 kB)\n",
      "Requirement already satisfied: urllib3<1.27,>=1.25.4 in /usr/local/Cellar/jupyterlab/3.4.3/libexec/lib/python3.10/site-packages (from botocore<1.28.0,>=1.27.36->boto3) (1.26.9)\n",
      "Requirement already satisfied: python-dateutil<3.0.0,>=2.1 in /usr/local/Cellar/jupyterlab/3.4.3/libexec/lib/python3.10/site-packages (from botocore<1.28.0,>=1.27.36->boto3) (2.8.2)\n",
      "Requirement already satisfied: six>=1.5 in /usr/local/Cellar/six/1.16.0_2/lib/python3.10/site-packages (from python-dateutil<3.0.0,>=2.1->botocore<1.28.0,>=1.27.36->boto3) (1.16.0)\n",
      "Installing collected packages: jmespath, botocore, s3transfer, boto3\n",
      "Successfully installed boto3-1.24.36 botocore-1.27.36 jmespath-1.0.1 s3transfer-0.6.0\n",
      "\u001b[33mWARNING: You are using pip version 22.0.4; however, version 22.2 is available.\n",
      "You should consider upgrading via the '/usr/local/Cellar/jupyterlab/3.4.3/libexec/bin/python3.10 -m pip install --upgrade pip' command.\u001b[0m\u001b[33m\n",
      "\u001b[0mNote: you may need to restart the kernel to use updated packages.\n"
     ]
    },
    {
     "data": {
      "text/plain": [
       "{'status': 'ok', 'restart': True}"
      ]
     },
     "execution_count": 6,
     "metadata": {},
     "output_type": "execute_result"
    }
   ],
   "source": [
    "%pip install pandas\n",
    "%pip install boto3\n",
    "\n",
    "import IPython\n",
    "IPython.Application.instance().kernel.do_shutdown(True)"
   ]
  },
  {
   "cell_type": "code",
   "execution_count": 19,
   "id": "3885b1b2",
   "metadata": {},
   "outputs": [],
   "source": [
    "# Third party imports\n",
    "import pandas as pd\n",
    "from pathlib import Path\n",
    "import sys"
   ]
  },
  {
   "cell_type": "code",
   "execution_count": 20,
   "id": "1e44375e",
   "metadata": {},
   "outputs": [],
   "source": [
    "# Internal imports\n",
    "sys.path.append(\"..\")\n",
    "from app.ingestion.dataframe_ingestion_client import DataframeIngestionClient\n",
    "from app.ingestion.main_datastore_proxy import MainDatastoreProxy\n",
    "from app.projection.projection_engine import ProjectionEngine\n",
    "from app.projection.projection_datastore_factory import ProjectionDatastoreFactory\n",
    "from app.recommendation.match_generator_factory import MatchGeneratorFactory"
   ]
  },
  {
   "cell_type": "markdown",
   "id": "3288a5be",
   "metadata": {},
   "source": [
    "## Ingestion\n",
    "\n",
    "Now, we can create a main data store and upload some data. For this demo, we'll use the \"in memory\" data store, which means that the data won't persist once we end the program, or in this case, restart the kernel. "
   ]
  },
  {
   "cell_type": "code",
   "execution_count": 21,
   "id": "c90df663",
   "metadata": {},
   "outputs": [],
   "source": [
    "# Path to input data\n",
    "filepath = \"../tests/test_data.csv\""
   ]
  },
  {
   "cell_type": "code",
   "execution_count": 22,
   "id": "19af3067",
   "metadata": {},
   "outputs": [
    {
     "name": "stdout",
     "output_type": "stream",
     "text": [
      "   author        movie  rating\n",
      "0  steven  bladerunner    0.80\n",
      "1   isaac  bladerunner    1.00\n",
      "2   ebert  bladerunner    1.00\n",
      "3  steven       clerks    0.60\n",
      "4   ebert       clerks    0.75\n"
     ]
    }
   ],
   "source": [
    "data = pd.read_csv(filepath, header=0)\n",
    "database = MainDatastoreProxy(in_memory=True)\n",
    "client = DataframeIngestionClient(database)\n",
    "client.upload(data)\n",
    "print(data)"
   ]
  },
  {
   "cell_type": "markdown",
   "id": "c3f2b43c",
   "metadata": {},
   "source": [
    "## Projection"
   ]
  },
  {
   "cell_type": "code",
   "execution_count": 23,
   "id": "c8e43241",
   "metadata": {},
   "outputs": [
    {
     "name": "stdout",
     "output_type": "stream",
     "text": [
      "{'steven': [0.8], 'isaac': [1.0], 'ebert': [1.0], '_average': [0.9333333333333332]}\n"
     ]
    }
   ],
   "source": [
    "authors = list(database.get_keys())\n",
    "projection_databse = ProjectionDatastoreFactory(projection_filepath = f'../data/projection.json', \n",
    "                 movie_indices_filepath = f'../data/movie_indices.json').build()\n",
    "projection_engine = ProjectionEngine(\n",
    "    database, projection_databse)\n",
    "projection_engine.create_projection()\n",
    "print(projection_databse.get())"
   ]
  },
  {
   "cell_type": "markdown",
   "id": "55ee2184",
   "metadata": {},
   "source": [
    "## Recommendation"
   ]
  },
  {
   "cell_type": "code",
   "execution_count": 18,
   "id": "ddce93ba",
   "metadata": {},
   "outputs": [
    {
     "name": "stdout",
     "output_type": "stream",
     "text": [
      "('steven', [Review(author='steven', movie='bladerunner', rating=0.8), Review(author='steven', movie='clerks', rating=0.6)])\n"
     ]
    }
   ],
   "source": [
    "match_generator = MatchGeneratorFactory(database, projection_databse).build()\n",
    "user_input = {'bladerunner': 0.4}\n",
    "match = match_generator.get_match(user_input)\n",
    "print(match)"
   ]
  }
 ],
 "metadata": {
  "kernelspec": {
   "display_name": "Python 3 (ipykernel)",
   "language": "python",
   "name": "python3"
  },
  "language_info": {
   "codemirror_mode": {
    "name": "ipython",
    "version": 3
   },
   "file_extension": ".py",
   "mimetype": "text/x-python",
   "name": "python",
   "nbconvert_exporter": "python",
   "pygments_lexer": "ipython3",
   "version": "3.10.5"
  }
 },
 "nbformat": 4,
 "nbformat_minor": 5
}
