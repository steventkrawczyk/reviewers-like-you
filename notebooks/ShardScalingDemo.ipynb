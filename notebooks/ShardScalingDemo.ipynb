{
 "cells": [
  {
   "cell_type": "markdown",
   "id": "89c68584",
   "metadata": {},
   "source": [
    "If you haven't already run DataPipelineDemo, do that first. This is a deep dive into how the backend scales with additional data. "
   ]
  },
  {
   "cell_type": "code",
   "execution_count": 25,
   "id": "08ba5ee2",
   "metadata": {},
   "outputs": [],
   "source": [
    "# Third party imports\n",
    "import pandas as pd\n",
    "from pathlib import Path\n",
    "import sys"
   ]
  },
  {
   "cell_type": "code",
   "execution_count": 26,
   "id": "339b85ab",
   "metadata": {},
   "outputs": [],
   "source": [
    "sys.path.append(\"..\")\n",
    "from app.projection.projection_datastore_factory import ProjectionDatastoreFactory\n",
    "from app.recommendation.similarity.similarity_engine_factory import SimilarityEngineFactory"
   ]
  },
  {
   "cell_type": "markdown",
   "id": "f0c13007",
   "metadata": {},
   "source": [
    "We set a shard size based on the number of entries we want on a single shard. For demonstration, lets pick 25 so that we can have multiple shards in memory for 1 program."
   ]
  },
  {
   "cell_type": "code",
   "execution_count": 27,
   "id": "b5d19ca2",
   "metadata": {},
   "outputs": [],
   "source": [
    "max_shard_size = 25"
   ]
  },
  {
   "cell_type": "markdown",
   "id": "95432681",
   "metadata": {},
   "source": [
    "We'll show that the number of shards created grows as we upload larger data sets to a projection datastore"
   ]
  },
  {
   "cell_type": "code",
   "execution_count": 28,
   "id": "a3fcbd4a",
   "metadata": {},
   "outputs": [
    {
     "name": "stdout",
     "output_type": "stream",
     "text": [
      "Number of shards created: 0\n",
      "Number of shards created: 1\n",
      "Number of shards created: 2\n",
      "Number of shards created: 3\n",
      "Number of shards created: 4\n",
      "Number of shards created: 5\n",
      "Number of shards created: 6\n",
      "Number of shards created: 7\n",
      "Number of shards created: 8\n",
      "Number of shards created: 9\n"
     ]
    }
   ],
   "source": [
    "for i in range(10):\n",
    "    projection = dict([(str(j),[float(j)]) for j in range(max_shard_size * i)])\n",
    "    movie_indices = dict([(str(j), j) for j in range(max_shard_size * i)])\n",
    "    projection_datastore = ProjectionDatastoreFactory(in_memory=True).build()\n",
    "    projection_datastore.upload(projection, movie_indices)\n",
    "    print(\"Number of shards created: \" + str(len(projection_datastore.get_shards())))"
   ]
  },
  {
   "cell_type": "markdown",
   "id": "c7e1290b",
   "metadata": {},
   "source": [
    "Using the largest dataset produced by the for loop above, plus a special \"_average\" vector computed ahead of time, we will show how projection shards convert to similarity shards that can be used by the backend for closest neighbor lookups."
   ]
  },
  {
   "cell_type": "code",
   "execution_count": 34,
   "id": "a246fb2f",
   "metadata": {},
   "outputs": [
    {
     "name": "stdout",
     "output_type": "stream",
     "text": [
      "\"_average\" vector: [0.0]\n",
      "index of closest neighbor: 0\n"
     ]
    }
   ],
   "source": [
    "projection[\"_average\"] = [0.0]\n",
    "movie_indices[\"_average\"] = len(projection)\n",
    "projection_datastore.upload(projection, movie_indices)\n",
    "similarity_engine = SimilarityEngineFactory(projection_datastore).build()\n",
    "average_vector = similarity_engine.find_average_vector()\n",
    "print(\"\\\"_average\\\" vector: \" + str(average_vector))\n",
    "print(\"index of closest neighbor: \" + str(similarity_engine.get_closest_neighbor(average_vector)))"
   ]
  },
  {
   "cell_type": "code",
   "execution_count": null,
   "id": "738e0b4a",
   "metadata": {},
   "outputs": [],
   "source": []
  }
 ],
 "metadata": {
  "kernelspec": {
   "display_name": "Python 3 (ipykernel)",
   "language": "python",
   "name": "python3"
  },
  "language_info": {
   "codemirror_mode": {
    "name": "ipython",
    "version": 3
   },
   "file_extension": ".py",
   "mimetype": "text/x-python",
   "name": "python",
   "nbconvert_exporter": "python",
   "pygments_lexer": "ipython3",
   "version": "3.10.5"
  }
 },
 "nbformat": 4,
 "nbformat_minor": 5
}
