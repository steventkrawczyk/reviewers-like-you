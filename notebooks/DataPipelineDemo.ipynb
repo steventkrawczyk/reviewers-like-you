{
 "cells": [
  {
   "cell_type": "markdown",
   "id": "f534ceed",
   "metadata": {},
   "source": [
    "# Data Pipeline Demo"
   ]
  },
  {
   "cell_type": "markdown",
   "id": "4809dff7",
   "metadata": {},
   "source": [
    "<img src=\"../images/SystemDesign.png\"/>\n",
    "\n",
    "This notebook is a hands on demonstration of the data pipeline shown above. Follow along to understand how data goes from ingestion, through projection, to recommendation, and finally creates a match for the user. "
   ]
  },
  {
   "cell_type": "markdown",
   "id": "70686403",
   "metadata": {},
   "source": [
    "## Setup"
   ]
  },
  {
   "cell_type": "markdown",
   "id": "3b1cfab2",
   "metadata": {},
   "source": [
    "The first thing we'll do is install the required python packages. Even if we have the code working outside of jupyter, we should do this just to be safe, jupyter may not be using the same environment we normally use to run python code. The last bit of code restarts the kernel, which may be required for us to use the updated packaged. Just reload the page after the kernel dies, and skip running this cell next time."
   ]
  },
  {
   "cell_type": "code",
   "execution_count": null,
   "id": "d284b367",
   "metadata": {},
   "outputs": [],
   "source": [
    "%pip install pandas\n",
    "%pip install boto3\n",
    "\n",
    "import IPython\n",
    "IPython.Application.instance().kernel.do_shutdown(True)"
   ]
  },
  {
   "cell_type": "code",
   "execution_count": 1,
   "id": "3885b1b2",
   "metadata": {},
   "outputs": [],
   "source": [
    "# Third party imports\n",
    "import pandas as pd\n",
    "from pathlib import Path\n",
    "import sys"
   ]
  },
  {
   "cell_type": "code",
   "execution_count": 3,
   "id": "1e44375e",
   "metadata": {},
   "outputs": [],
   "source": [
    "# Internal imports\n",
    "sys.path.append(\"..\")\n",
    "from app.ingestion.dataframe_ingestion_client import DataframeIngestionClient\n",
    "from app.ingestion.main_datastore_factory import MainDatastoreFactory\n",
    "from app.projection.projection_engine import ProjectionEngine\n",
    "from app.projection.projection_datastore_factory import ProjectionDatastoreFactory\n",
    "from app.recommendation.match_generator_factory import MatchGeneratorFactory"
   ]
  },
  {
   "cell_type": "markdown",
   "id": "3288a5be",
   "metadata": {},
   "source": [
    "## Ingestion\n",
    "\n",
    "Now, we can create a main data store and upload some data. For this demo, we'll use the \"in memory\" data store, which means that the data won't persist once we end the program, or in this case, restart the kernel. "
   ]
  },
  {
   "cell_type": "code",
   "execution_count": 4,
   "id": "c90df663",
   "metadata": {},
   "outputs": [],
   "source": [
    "# Path to input data\n",
    "filepath = \"../tests/test_data.csv\""
   ]
  },
  {
   "cell_type": "code",
   "execution_count": 5,
   "id": "19af3067",
   "metadata": {},
   "outputs": [
    {
     "name": "stdout",
     "output_type": "stream",
     "text": [
      "   author        movie  rating\n",
      "0  steven  bladerunner    0.80\n",
      "1   isaac  bladerunner    1.00\n",
      "2   ebert  bladerunner    1.00\n",
      "3  steven       clerks    0.60\n",
      "4   ebert       clerks    0.75\n"
     ]
    }
   ],
   "source": [
    "data = pd.read_csv(filepath, header=0)\n",
    "database = MainDatastoreFactory(in_memory=True).build()\n",
    "client = DataframeIngestionClient(database)\n",
    "client.upload(data)\n",
    "print(data)"
   ]
  },
  {
   "cell_type": "markdown",
   "id": "c3f2b43c",
   "metadata": {},
   "source": [
    "## Projection"
   ]
  },
  {
   "cell_type": "code",
   "execution_count": 6,
   "id": "c8e43241",
   "metadata": {},
   "outputs": [
    {
     "name": "stdout",
     "output_type": "stream",
     "text": [
      "{'isaac': [1.0], 'ebert': [1.0], 'steven': [0.8], '_average': [0.9333333333333332]}\n",
      "{'bladerunner': 0}\n"
     ]
    }
   ],
   "source": [
    "projection_databse = ProjectionDatastoreFactory(projection_filepath = f'../data/projection.json', \n",
    "                 movie_indices_filepath = f'../data/movie_indices.json', in_memory=True).build()\n",
    "projection_engine = ProjectionEngine(\n",
    "    database, projection_databse)\n",
    "projection_engine.create_projection()\n",
    "print(projection_databse.get())\n",
    "print(projection_databse.get_movie_indices())"
   ]
  },
  {
   "cell_type": "markdown",
   "id": "55ee2184",
   "metadata": {},
   "source": [
    "## Recommendation"
   ]
  },
  {
   "cell_type": "code",
   "execution_count": 7,
   "id": "ddce93ba",
   "metadata": {},
   "outputs": [
    {
     "name": "stdout",
     "output_type": "stream",
     "text": [
      "('steven', [Review(author='steven', movie='bladerunner', rating=0.8), Review(author='steven', movie='clerks', rating=0.6)])\n",
      "('isaac', [Review(author='isaac', movie='bladerunner', rating=1.0)])\n"
     ]
    }
   ],
   "source": [
    "match_generator = MatchGeneratorFactory(database, projection_databse).build()\n",
    "user_input = {'bladerunner': 0.4}\n",
    "match = match_generator.get_match(user_input)\n",
    "print(match)\n",
    "user_input = {'bladerunner': 1.0}\n",
    "match = match_generator.get_match(user_input)\n",
    "print(match)"
   ]
  },
  {
   "cell_type": "code",
   "execution_count": null,
   "id": "82a6dcaf",
   "metadata": {},
   "outputs": [],
   "source": []
  }
 ],
 "metadata": {
  "kernelspec": {
   "display_name": "Python 3 (ipykernel)",
   "language": "python",
   "name": "python3"
  },
  "language_info": {
   "codemirror_mode": {
    "name": "ipython",
    "version": 3
   },
   "file_extension": ".py",
   "mimetype": "text/x-python",
   "name": "python",
   "nbconvert_exporter": "python",
   "pygments_lexer": "ipython3",
   "version": "3.10.5"
  }
 },
 "nbformat": 4,
 "nbformat_minor": 5
}
